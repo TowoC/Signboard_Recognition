{
 "cells": [
  {
   "cell_type": "code",
   "execution_count": 63,
   "metadata": {},
   "outputs": [],
   "source": [
    "import re\n",
    "import cv2\n",
    "import json\n",
    "from tqdm.notebook import tqdm\n",
    "import csv\n",
    "import shutil\n",
    "import os\n",
    "import glob\n",
    "from natsort import natsorted as natsort\n",
    "from random import shuffle\n",
    "import random\n",
    "import pandas as pd"
   ]
  },
  {
   "cell_type": "markdown",
   "metadata": {},
   "source": [
    "## Download handwrite Data and Processing"
   ]
  },
  {
   "cell_type": "markdown",
   "metadata": {},
   "source": [
    "※ (file_path) & (output_path) 以實際檔案位置需求作修改、替換，解壓縮後資料夾名稱為 cleaned_data，共684,677個圖片"
   ]
  },
  {
   "cell_type": "markdown",
   "metadata": {},
   "source": [
    "git clone https://github.com/chenkenanalytic/handwritting_data_all.git\n",
    "\n",
    "cat (file_path)/all_data.zip* > (file_path)/all_data.zip\n",
    "\n",
    "unzip -O big5 (file_path)/all_data.zip -d (output_path)"
   ]
  },
  {
   "cell_type": "code",
   "execution_count": 36,
   "metadata": {},
   "outputs": [],
   "source": [
    "handwrite_root_path = '/home/tingwei/signboard/test' ## The path we define in the above cell (output_path)"
   ]
  },
  {
   "cell_type": "code",
   "execution_count": 24,
   "metadata": {},
   "outputs": [],
   "source": [
    "train_path = '/home/tingwei/signboard/test/train' ## The path of train data\n",
    "darknet_path = '/home/tingwei/signboard/test/darknet' ## The root path of YoloV4(darkenet)\n",
    "\n",
    "test_path = '/home/tingwei/signboard/private/img_private' ## The path of test data"
   ]
  },
  {
   "cell_type": "code",
   "execution_count": 26,
   "metadata": {},
   "outputs": [
    {
     "name": "stdout",
     "output_type": "stream",
     "text": [
      "make direction\n"
     ]
    }
   ],
   "source": [
    "if not os.path.exists(os.path.join(train_path, 'merge_training')):\n",
    "    os.mkdir(os.path.join(train_path, 'merge_training'))\n",
    "    print('make direction')"
   ]
  },
  {
   "cell_type": "code",
   "execution_count": 27,
   "metadata": {},
   "outputs": [
    {
     "name": "stdout",
     "output_type": "stream",
     "text": [
      "make direction\n"
     ]
    }
   ],
   "source": [
    "if not os.path.exists(os.path.join(train_path, 'only_text')):\n",
    "    os.mkdir(os.path.join(train_path, 'only_text'))\n",
    "    print('make direction')"
   ]
  },
  {
   "cell_type": "code",
   "execution_count": 40,
   "metadata": {},
   "outputs": [
    {
     "data": {
      "application/vnd.jupyter.widget-view+json": {
       "model_id": "bb64abb0bb864dfebae02ae0653774c0",
       "version_major": 2,
       "version_minor": 0
      },
      "text/plain": [
       "HBox(children=(HTML(value=''), FloatProgress(value=0.0, max=684677.0), HTML(value='')))"
      ]
     },
     "metadata": {},
     "output_type": "display_data"
    },
    {
     "name": "stdout",
     "output_type": "stream",
     "text": [
      "\n"
     ]
    }
   ],
   "source": [
    "# ## make the label.csv and rename in the full handwriting dataset\n",
    "\n",
    "hand_write_path = os.path.join(handwrite_root_path, 'cleaned_data')\n",
    "hand_write_list = natsort(glob.glob(os.path.join(hand_write_path, '*', '*')))\n",
    "\n",
    "from tqdm.notebook import tqdm\n",
    "\n",
    "first_index = 0\n",
    "tmp_label = '一'\n",
    "\n",
    "for i in tqdm(range(len(hand_write_list))):\n",
    "    label = os.path.split(hand_write_list[i])[-1].split('_')[0]\n",
    "    index = os.path.split(hand_write_list[i])[-1].split('_')[1].split('.')[0]\n",
    "    folder_path = os.path.split(hand_write_list[i])[0]\n",
    "\n",
    "    os.rename(hand_write_list[i], os.path.join(folder_path, str(first_index) + '_' + index + '.png'))\n",
    "\n",
    "    with open(os.path.join(train_path, 'merge_training', 'hand_write_text_label_all.csv'), 'a+', newline='') as csvfile:\n",
    "        # 建立 CSV 檔寫入器\n",
    "        writer = csv.writer(csvfile)\n",
    "        writer.writerow([os.path.join(folder_path, str(first_index) + '_' + index + '.png'), label])\n",
    "    if label == tmp_label:\n",
    "        pass\n",
    "    else:\n",
    "        tmp_label = label\n",
    "        first_index += 1"
   ]
  },
  {
   "cell_type": "markdown",
   "metadata": {},
   "source": [
    "## Training and Test Data Processing"
   ]
  },
  {
   "cell_type": "code",
   "execution_count": 41,
   "metadata": {},
   "outputs": [],
   "source": [
    "json_path = os.path.join(train_path, 'json')\n",
    "json_list = natsort(os.listdir(json_path))"
   ]
  },
  {
   "cell_type": "code",
   "execution_count": 42,
   "metadata": {},
   "outputs": [],
   "source": [
    "def is_all_chinese(strs):\n",
    "    for _char in strs:\n",
    "        if not '\\u4e00' <= _char <= '\\u9fa5':\n",
    "            return False\n",
    "    return True"
   ]
  },
  {
   "cell_type": "code",
   "execution_count": 43,
   "metadata": {},
   "outputs": [
    {
     "data": {
      "application/vnd.jupyter.widget-view+json": {
       "model_id": "0e54ef308c8748b09196206215a76d66",
       "version_major": 2,
       "version_minor": 0
      },
      "text/plain": [
       "HBox(children=(HTML(value=''), FloatProgress(value=0.0, max=4565.0), HTML(value='')))"
      ]
     },
     "metadata": {},
     "output_type": "display_data"
    },
    {
     "name": "stdout",
     "output_type": "stream",
     "text": [
      "\n"
     ]
    }
   ],
   "source": [
    "\n",
    "all_label = []\n",
    "all_points = []\n",
    "all_names = []\n",
    "all_width = []\n",
    "all_height = []\n",
    "# 開啟 JSON 檔案\n",
    "for i in tqdm(range(len(json_list))):\n",
    "    with open(os.path.join(json_path, json_list[i])) as f:\n",
    "        img_label = []\n",
    "        img_points = []\n",
    "\n",
    "        # 讀取 JSON 檔案\n",
    "        p = json.load(f)\n",
    "        for j in range(len(p['shapes'])):\n",
    "            tmp_points = p['shapes'][j]['points']\n",
    "            tmp_label = p['shapes'][j]['label']\n",
    "            if is_all_chinese(tmp_label):\n",
    "                if len(tmp_label) == 1:\n",
    "                    save_label = tmp_label\n",
    "                    save_points = tmp_points\n",
    "                    img_label.append(tmp_label)\n",
    "                    img_points.append(tmp_points)\n",
    "        all_names.append(p['imagePath'])\n",
    "        all_label.append(list(img_label))\n",
    "        all_points.append(list(img_points))\n",
    "        all_width.append(p['imageWidth'])\n",
    "        all_height.append(p['imageHeight'])   "
   ]
  },
  {
   "cell_type": "code",
   "execution_count": 47,
   "metadata": {},
   "outputs": [
    {
     "data": {
      "application/vnd.jupyter.widget-view+json": {
       "model_id": "3b2ccd0dab81454bae8e15dffe15ac15",
       "version_major": 2,
       "version_minor": 0
      },
      "text/plain": [
       "HBox(children=(HTML(value=''), FloatProgress(value=0.0, max=4565.0), HTML(value='')))"
      ]
     },
     "metadata": {},
     "output_type": "display_data"
    },
    {
     "name": "stdout",
     "output_type": "stream",
     "text": [
      "\n"
     ]
    }
   ],
   "source": [
    "count = 0 \n",
    "###[image_index][label_index][label_0, 2][x, y]\n",
    "for i in tqdm(range(len(all_names))):\n",
    "    for j in range(len(all_label[i])):\n",
    "        pure_name = all_names[i].split('.')[0]\n",
    "        \n",
    "        Xmin = all_points[i][j][0][0]\n",
    "        Ymin = all_points[i][j][0][1]\n",
    "        Xmax = all_points[i][j][2][0]\n",
    "        Ymax = all_points[i][j][2][1]\n",
    "        text = all_label[i][j]\n",
    "        \n",
    "        if Xmin < Xmax and Ymin < Ymax and Xmin > 0 and Ymin >0 and Xmax >0 and Ymax >0:\n",
    "            tmp_img = cv2.imread(os.path.join(train_path, 'img', all_names[i]))\n",
    "            tmp_img = tmp_img[Ymin:Ymax, Xmin:Xmax]\n",
    "            \n",
    "            count += 1\n",
    "            cv2.imwrite(os.path.join(train_path, 'only_text', pure_name + '_' + str(j) + '.jpg'), tmp_img)\n",
    "            with open(os.path.join(train_path, 'merge_training', 'text_label.csv'), 'a+', newline='') as csvfile:\n",
    "                writer = csv.writer(csvfile)\n",
    "                writer.writerow([os.path.join(train_path, 'only_text', pure_name + '_' + str(j) + '.jpg'), all_label[i][j]])\n",
    "           "
   ]
  },
  {
   "cell_type": "code",
   "execution_count": 48,
   "metadata": {},
   "outputs": [
    {
     "name": "stdout",
     "output_type": "stream",
     "text": [
      "make direction\n"
     ]
    }
   ],
   "source": [
    "if not os.path.exists(os.path.join(train_path, 'txt')):\n",
    "    os.mkdir(os.path.join(train_path, 'txt'))\n",
    "    print('make direction')"
   ]
  },
  {
   "cell_type": "code",
   "execution_count": 49,
   "metadata": {},
   "outputs": [],
   "source": [
    "###[image_index][label_index][label_0, 2][x, y]\n",
    "for i in tqdm(range(len(all_names))):\n",
    "    for j in range(len(all_label[i])):\n",
    "    \n",
    "        Xmin = all_points[i][j][0][0]\n",
    "        Ymin = all_points[i][j][0][1]\n",
    "        Xmax = all_points[i][j][2][0]\n",
    "        Ymax = all_points[i][j][2][1]\n",
    "\n",
    "        x = ((Xmin+Xmax) / 2) / int(all_width[i])\n",
    "        y = ((Ymin+Ymax) / 2) / int(all_height[i])\n",
    "        w = (Xmax-Xmin) / int(all_width[i])\n",
    "        h = (Ymax-Ymin) / int(all_height[i])\n",
    "        \n",
    "        with open(os.path.join(train_path, 'txt', str(all_names[i].split('.')[0])) + '.txt', 'a+', newline='\\n') as csvfile:\n",
    "            writer = csv.writer(csvfile, delimiter = '\\t')\n",
    "            writer.writerow(['0', str(x), str(y), str(w), str(h)])"
   ]
  },
  {
   "cell_type": "code",
   "execution_count": 51,
   "metadata": {},
   "outputs": [],
   "source": [
    "all_list = natsort(os.listdir(os.path.join(train_path, 'txt')))"
   ]
  },
  {
   "cell_type": "code",
   "execution_count": 52,
   "metadata": {},
   "outputs": [],
   "source": [
    "random.seed(1)\n",
    "shuffle(all_list)\n",
    "train_data = all_list[:int(len(all_list) * 0.8)]\n",
    "val_data = all_list[int(len(all_list) * 0.8):]"
   ]
  },
  {
   "cell_type": "code",
   "execution_count": 53,
   "metadata": {},
   "outputs": [
    {
     "name": "stdout",
     "output_type": "stream",
     "text": [
      "make direction\n",
      "make direction\n",
      "make direction\n"
     ]
    }
   ],
   "source": [
    "if not os.path.exists(os.path.join(train_path, 'split')):\n",
    "    os.mkdir(os.path.join(train_path, 'split'))\n",
    "    print('make direction')\n",
    "if not os.path.exists(os.path.join(train_path, 'split','train')):\n",
    "    os.mkdir(os.path.join(train_path, 'split','train'))\n",
    "    print('make direction')\n",
    "if not os.path.exists(os.path.join(train_path, 'split','val')):\n",
    "    os.mkdir(os.path.join(train_path, 'split','val'))\n",
    "    print('make direction')"
   ]
  },
  {
   "cell_type": "code",
   "execution_count": 55,
   "metadata": {},
   "outputs": [
    {
     "data": {
      "application/vnd.jupyter.widget-view+json": {
       "model_id": "b9f7a19d2c7c41b49594fd99bcfa3d6b",
       "version_major": 2,
       "version_minor": 0
      },
      "text/plain": [
       "HBox(children=(HTML(value=''), FloatProgress(value=0.0, max=3594.0), HTML(value='')))"
      ]
     },
     "metadata": {},
     "output_type": "display_data"
    },
    {
     "name": "stdout",
     "output_type": "stream",
     "text": [
      "\n"
     ]
    },
    {
     "data": {
      "application/vnd.jupyter.widget-view+json": {
       "model_id": "009a7976f0a64ab9bf1d7793cc526e99",
       "version_major": 2,
       "version_minor": 0
      },
      "text/plain": [
       "HBox(children=(HTML(value=''), FloatProgress(value=0.0, max=899.0), HTML(value='')))"
      ]
     },
     "metadata": {},
     "output_type": "display_data"
    },
    {
     "name": "stdout",
     "output_type": "stream",
     "text": [
      "\n"
     ]
    }
   ],
   "source": [
    "\n",
    "for i in tqdm(range(len(train_data))):\n",
    "    pure_name = train_data[i].split('.')[0]\n",
    "    shutil.copy(os.path.join(train_path, 'txt', pure_name + '.txt'), os.path.join(train_path, 'split', 'train', pure_name + '.txt'))\n",
    "    shutil.copy(os.path.join(train_path, 'img', pure_name + '.jpg'), os.path.join(train_path, 'split', 'train', pure_name + '.jpg'))\n",
    "\n",
    "for i in tqdm(range(len(val_data))):\n",
    "    pure_name = val_data[i].split('.')[0]\n",
    "    shutil.copy(os.path.join(train_path, 'txt', pure_name + '.txt'), os.path.join(train_path, 'split', 'val', pure_name + '.txt'))\n",
    "    shutil.copy(os.path.join(train_path, 'img', pure_name + '.jpg'), os.path.join(train_path, 'split', 'val', pure_name + '.jpg'))    "
   ]
  },
  {
   "cell_type": "code",
   "execution_count": 56,
   "metadata": {},
   "outputs": [],
   "source": [
    "glob_train = natsort(glob.glob(os.path.join(train_path, 'split', 'train', '*.jpg')))\n",
    "glob_val = natsort(glob.glob(os.path.join(train_path, 'split', 'val', '*.jpg')))"
   ]
  },
  {
   "cell_type": "code",
   "execution_count": 57,
   "metadata": {},
   "outputs": [],
   "source": [
    "with open(os.path.join(darknet_path, 'data', 'train.txt'), 'w', newline='\\n') as csvfile:\n",
    "    writer = csv.writer(csvfile)\n",
    "    for i in range(len(glob_train)):\n",
    "        writer.writerow([glob_train[i]])"
   ]
  },
  {
   "cell_type": "code",
   "execution_count": 58,
   "metadata": {},
   "outputs": [],
   "source": [
    "with open(os.path.join(darknet_path, 'data', 'val.txt'), 'w', newline='\\n') as csvfile:\n",
    "    writer = csv.writer(csvfile)\n",
    "    for i in range(len(glob_val)):\n",
    "        writer.writerow([glob_val[i]])"
   ]
  },
  {
   "cell_type": "code",
   "execution_count": 59,
   "metadata": {},
   "outputs": [],
   "source": [
    "test_list = natsort(glob.glob(os.path.join(test_path, '*.jpg')))"
   ]
  },
  {
   "cell_type": "code",
   "execution_count": 60,
   "metadata": {},
   "outputs": [],
   "source": [
    "with open(os.path.join(darknet_path, 'data', 'test.txt'), 'w', newline='\\n', encoding='utf-8') as f:\n",
    "#     writer = csv.writer(csvfile)\n",
    "    for i in range(len(test_list)):\n",
    "#         writer.writerow([test_list[i]])\n",
    "        f.write(test_list[i] + '\\n')"
   ]
  },
  {
   "cell_type": "markdown",
   "metadata": {},
   "source": [
    "## Merge CSV"
   ]
  },
  {
   "cell_type": "code",
   "execution_count": 65,
   "metadata": {},
   "outputs": [],
   "source": [
    "df1 = pd.read_csv(os.path.join(train_path, 'merge_training', 'text_label.csv'), header = None)\n",
    "df2 = pd.read_csv(os.path.join(train_path, 'merge_training', 'hand_write_text_label_all.csv'), header = None)"
   ]
  },
  {
   "cell_type": "code",
   "execution_count": 66,
   "metadata": {},
   "outputs": [],
   "source": [
    "df1_name_list = list(df1[int(len(df1) * 0.2):][0])\n",
    "df1_label_list = list(df1[int(len(df1) * 0.2):][1])\n",
    "df2_name_list = list(df2[0])\n",
    "df2_label_list = list(df2[1])"
   ]
  },
  {
   "cell_type": "code",
   "execution_count": 67,
   "metadata": {},
   "outputs": [],
   "source": [
    "Ser1 = pd.Series(df1_name_list + df2_name_list)\n",
    "Ser2 = pd.Series(df1_label_list + df2_label_list)\n",
    "\n",
    "train_dataset = pd.DataFrame({'0':Ser1, '1':Ser2})\n",
    "val_dataset = df1[:int(len(df1) * 0.2)]"
   ]
  },
  {
   "cell_type": "code",
   "execution_count": 69,
   "metadata": {},
   "outputs": [],
   "source": [
    "train_dataset.to_csv(os.path.join(train_path, 'merge_training', 'merge_training_all_handwrite.csv'), index=False)\n",
    "val_dataset.to_csv(os.path.join(train_path, 'merge_training', 'merge_validation_all_handwrite.csv'), index=False)"
   ]
  }
 ],
 "metadata": {
  "kernelspec": {
   "display_name": "General",
   "language": "python",
   "name": "general"
  },
  "language_info": {
   "codemirror_mode": {
    "name": "ipython",
    "version": 3
   },
   "file_extension": ".py",
   "mimetype": "text/x-python",
   "name": "python",
   "nbconvert_exporter": "python",
   "pygments_lexer": "ipython3",
   "version": "3.6.9"
  }
 },
 "nbformat": 4,
 "nbformat_minor": 4
}
